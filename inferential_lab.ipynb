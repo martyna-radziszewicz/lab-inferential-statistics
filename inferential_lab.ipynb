{
 "cells": [
  {
   "cell_type": "code",
   "execution_count": 8,
   "metadata": {},
   "outputs": [],
   "source": [
    "import pandas as pd\n",
    "import numpy as np\n",
    "from scipy import stats\n",
    "import matplotlib.pyplot as plt\n",
    "import seaborn as sns\n",
    "import scipy.stats as st"
   ]
  },
  {
   "cell_type": "code",
   "execution_count": 4,
   "metadata": {},
   "outputs": [
    {
     "name": "stdout",
     "output_type": "stream",
     "text": [
      "Null Hypothesis (H₀): The mean systolic blood pressure is μ = 120 mm Hg\n",
      "Alternate Hypothesis (H₁): The mean systolic blood pressure of the sample is not 120 mm Hg\n"
     ]
    }
   ],
   "source": [
    "# Hypotheses\n",
    "null_hypothesis = \"The mean systolic blood pressure is μ = 120 mm Hg\"  # H₀\n",
    "alt_hypothesis = \"The mean systolic blood pressure of the sample is not 120 mm Hg\"  # H₁\n",
    "\n",
    "print(f\"Null Hypothesis (H₀): {null_hypothesis}\")\n",
    "print(f\"Alternate Hypothesis (H₁): {alt_hypothesis}\")"
   ]
  },
  {
   "cell_type": "code",
   "execution_count": 5,
   "metadata": {},
   "outputs": [
    {
     "name": "stdout",
     "output_type": "stream",
     "text": [
      "Level of Significance (α): 0.05\n"
     ]
    }
   ],
   "source": [
    "# Significance level\n",
    "alpha = 0.05\n",
    "print(f\"Level of Significance (α): {alpha}\")"
   ]
  },
  {
   "cell_type": "code",
   "execution_count": 6,
   "metadata": {},
   "outputs": [
    {
     "name": "stdout",
     "output_type": "stream",
     "text": [
      "Test Statistic (t): 4.76\n"
     ]
    }
   ],
   "source": [
    "mean = 130.1\n",
    "s = 21.21\n",
    "pop_mean = 120\n",
    "n = 100\n",
    "# Calculate the t-statistic\n",
    "t_stat = (mean - pop_mean) / (s / np.sqrt(n))\n",
    "print(f\"Test Statistic (t): {t_stat:.2f}\")"
   ]
  },
  {
   "cell_type": "code",
   "execution_count": 9,
   "metadata": {},
   "outputs": [
    {
     "name": "stdout",
     "output_type": "stream",
     "text": [
      "P-Value: 0.0000\n"
     ]
    }
   ],
   "source": [
    "# Step 5: Determine p-Value for Two-Tailed Test\n",
    "# p-value using Survival Function (sf) for two-tailed test\n",
    "p_value = st.t.sf(np.abs(t_stat), df=n-1) * 2  # Multiply by 2 for a two-tailed test\n",
    "print(f\"P-Value: {p_value:.4f}\")"
   ]
  },
  {
   "cell_type": "code",
   "execution_count": 10,
   "metadata": {},
   "outputs": [
    {
     "name": "stdout",
     "output_type": "stream",
     "text": [
      "Reject the Null Hypothesis: There is evidence to say the average price is different from $65.\n"
     ]
    }
   ],
   "source": [
    "# Step 6: Decision-Making\n",
    "if p_value > alpha:\n",
    "    print(\"Fail to Reject the Null Hypothesis: Not enough evidence to say the average price is different from $65.\")\n",
    "else:\n",
    "    print(\"Reject the Null Hypothesis: There is evidence to say the average price is different from $65.\")"
   ]
  }
 ],
 "metadata": {
  "kernelspec": {
   "display_name": ".venv",
   "language": "python",
   "name": "python3"
  },
  "language_info": {
   "codemirror_mode": {
    "name": "ipython",
    "version": 3
   },
   "file_extension": ".py",
   "mimetype": "text/x-python",
   "name": "python",
   "nbconvert_exporter": "python",
   "pygments_lexer": "ipython3",
   "version": "3.12.4"
  }
 },
 "nbformat": 4,
 "nbformat_minor": 2
}
